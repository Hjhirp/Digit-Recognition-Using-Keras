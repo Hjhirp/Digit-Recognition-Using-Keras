{
  "metadata": {
    "kernelspec": {
      "language": "python",
      "display_name": "Python 3",
      "name": "python3"
    },
    "language_info": {
      "name": "python",
      "version": "3.7.12",
      "mimetype": "text/x-python",
      "codemirror_mode": {
        "name": "ipython",
        "version": 3
      },
      "pygments_lexer": "ipython3",
      "nbconvert_exporter": "python",
      "file_extension": ".py"
    },
    "colab": {
      "provenance": [],
      "include_colab_link": true
    }
  },
  "nbformat_minor": 0,
  "nbformat": 4,
  "cells": [
    {
      "cell_type": "markdown",
      "metadata": {
        "id": "view-in-github",
        "colab_type": "text"
      },
      "source": [
        "<a href=\"https://colab.research.google.com/github/Hjhirp/Digit-Recognition-Using-Keras/blob/main/Notebook/Digit_Recognition.ipynb\" target=\"_parent\"><img src=\"https://colab.research.google.com/assets/colab-badge.svg\" alt=\"Open In Colab\"/></a>"
      ]
    },
    {
      "cell_type": "code",
      "source": [
        "# This Python 3 environment comes with many helpful analytics libraries installed\n",
        "# It is defined by the kaggle/python Docker image: https://github.com/kaggle/docker-python\n",
        "# For example, here's several helpful packages to load\n",
        "\n",
        "import numpy as np # linear algebra\n",
        "import pandas as pd # data processing, CSV file I/O (e.g. pd.read_csv)\n",
        "import matplotlib.pyplot as plt\n",
        "# Input data files are available in the read-only \"../input/\" directory\n",
        "# For example, running this (by clicking run or pressing Shift+Enter) will list all files under the input directory\n",
        "\n",
        "import os\n",
        "for dirname, _, filenames in os.walk('/kaggle/input'):\n",
        "    for filename in filenames:\n",
        "        print(os.path.join(dirname, filename))\n",
        "\n",
        "# You can write up to 20GB to the current directory (/kaggle/working/) that gets preserved as output when you create a version using \"Save & Run All\"\n",
        "# You can also write temporary files to /kaggle/temp/, but they won't be saved outside of the current session"
      ],
      "metadata": {
        "_uuid": "8f2839f25d086af736a60e9eeb907d3b93b6e0e5",
        "_cell_guid": "b1076dfc-b9ad-4769-8c92-a6c4dae69d19",
        "execution": {
          "iopub.status.busy": "2022-01-13T04:23:59.830859Z",
          "iopub.execute_input": "2022-01-13T04:23:59.831550Z",
          "iopub.status.idle": "2022-01-13T04:23:59.839109Z",
          "shell.execute_reply.started": "2022-01-13T04:23:59.831493Z",
          "shell.execute_reply": "2022-01-13T04:23:59.838155Z"
        },
        "trusted": true,
        "id": "PsC9jvgJdjWm"
      },
      "execution_count": null,
      "outputs": []
    },
    {
      "cell_type": "code",
      "source": [
        "df = pd.read_csv('../input/digit-recognizer/train.csv')\n",
        "df.head()"
      ],
      "metadata": {
        "execution": {
          "iopub.status.busy": "2022-01-13T04:23:59.862995Z",
          "iopub.execute_input": "2022-01-13T04:23:59.863440Z",
          "iopub.status.idle": "2022-01-13T04:24:02.601108Z",
          "shell.execute_reply.started": "2022-01-13T04:23:59.863408Z",
          "shell.execute_reply": "2022-01-13T04:24:02.600191Z"
        },
        "trusted": true,
        "id": "yqtcGAG9djWr"
      },
      "execution_count": null,
      "outputs": []
    },
    {
      "cell_type": "code",
      "source": [
        "df.describe()"
      ],
      "metadata": {
        "execution": {
          "iopub.status.busy": "2022-01-13T04:24:02.602749Z",
          "iopub.execute_input": "2022-01-13T04:24:02.603403Z",
          "iopub.status.idle": "2022-01-13T04:24:04.972643Z",
          "shell.execute_reply.started": "2022-01-13T04:24:02.603358Z",
          "shell.execute_reply": "2022-01-13T04:24:04.971782Z"
        },
        "trusted": true,
        "id": "rE3vzdJidjWv"
      },
      "execution_count": null,
      "outputs": []
    },
    {
      "cell_type": "code",
      "source": [
        "import tensorflow as tf\n",
        "from tensorflow.keras import Sequential\n",
        "from tensorflow.keras.layers import Conv2D, MaxPool2D , Dense, Flatten,Dropout"
      ],
      "metadata": {
        "execution": {
          "iopub.status.busy": "2022-01-13T04:24:04.973672Z",
          "iopub.execute_input": "2022-01-13T04:24:04.973865Z",
          "iopub.status.idle": "2022-01-13T04:24:04.977874Z",
          "shell.execute_reply.started": "2022-01-13T04:24:04.973841Z",
          "shell.execute_reply": "2022-01-13T04:24:04.977249Z"
        },
        "trusted": true,
        "id": "tr8VViWVdjWw"
      },
      "execution_count": null,
      "outputs": []
    },
    {
      "cell_type": "code",
      "source": [
        "X_train.shape"
      ],
      "metadata": {
        "execution": {
          "iopub.status.busy": "2022-01-13T04:24:04.979424Z",
          "iopub.execute_input": "2022-01-13T04:24:04.979998Z",
          "iopub.status.idle": "2022-01-13T04:24:04.996036Z",
          "shell.execute_reply.started": "2022-01-13T04:24:04.979961Z",
          "shell.execute_reply": "2022-01-13T04:24:04.994993Z"
        },
        "trusted": true,
        "id": "oX00CSy5djWx"
      },
      "execution_count": null,
      "outputs": []
    },
    {
      "cell_type": "code",
      "source": [
        "y = np.array(df.pop('label'))\n",
        "X_train = np.array(df)\n",
        "print(type(X_train))\n",
        "print(X_train[0])\n",
        "X_train_reshaped  = X_train.reshape((42000,28,28,1))\n",
        "print(X_train[0])"
      ],
      "metadata": {
        "execution": {
          "iopub.status.busy": "2022-01-13T04:24:04.997522Z",
          "iopub.execute_input": "2022-01-13T04:24:04.998446Z",
          "iopub.status.idle": "2022-01-13T04:24:05.303584Z",
          "shell.execute_reply.started": "2022-01-13T04:24:04.998396Z",
          "shell.execute_reply": "2022-01-13T04:24:05.302639Z"
        },
        "trusted": true,
        "id": "IkI8rC33djWx"
      },
      "execution_count": null,
      "outputs": []
    },
    {
      "cell_type": "code",
      "source": [
        "from sklearn.model_selection import train_test_split\n",
        "\n",
        "X_train,X_test , y_train, y_test = train_test_split(X_train_reshaped,y,test_size=.2,random_state=1)"
      ],
      "metadata": {
        "execution": {
          "iopub.status.busy": "2022-01-13T04:24:05.304941Z",
          "iopub.execute_input": "2022-01-13T04:24:05.305168Z",
          "iopub.status.idle": "2022-01-13T04:24:05.729007Z",
          "shell.execute_reply.started": "2022-01-13T04:24:05.305140Z",
          "shell.execute_reply": "2022-01-13T04:24:05.728144Z"
        },
        "trusted": true,
        "id": "R6bavQh3djWy"
      },
      "execution_count": null,
      "outputs": []
    },
    {
      "cell_type": "code",
      "source": [
        "print(y_train.shape)"
      ],
      "metadata": {
        "execution": {
          "iopub.status.busy": "2022-01-13T04:42:02.888443Z",
          "iopub.execute_input": "2022-01-13T04:42:02.888971Z",
          "iopub.status.idle": "2022-01-13T04:42:02.895196Z",
          "shell.execute_reply.started": "2022-01-13T04:42:02.888937Z",
          "shell.execute_reply": "2022-01-13T04:42:02.894233Z"
        },
        "trusted": true,
        "id": "SYYSKve1djW0"
      },
      "execution_count": null,
      "outputs": []
    },
    {
      "cell_type": "code",
      "source": [
        "plt.imshow(X_train_reshaped[100])"
      ],
      "metadata": {
        "execution": {
          "iopub.status.busy": "2022-01-13T04:24:05.730513Z",
          "iopub.execute_input": "2022-01-13T04:24:05.730805Z",
          "iopub.status.idle": "2022-01-13T04:24:05.934779Z",
          "shell.execute_reply.started": "2022-01-13T04:24:05.730766Z",
          "shell.execute_reply": "2022-01-13T04:24:05.933965Z"
        },
        "trusted": true,
        "id": "A67Sa3bodjW1"
      },
      "execution_count": null,
      "outputs": []
    },
    {
      "cell_type": "code",
      "source": [
        "input_shape = X_train_reshaped[1].shape\n",
        "print(input_shape)"
      ],
      "metadata": {
        "execution": {
          "iopub.status.busy": "2022-01-13T04:24:05.935908Z",
          "iopub.execute_input": "2022-01-13T04:24:05.936144Z",
          "iopub.status.idle": "2022-01-13T04:24:05.941711Z",
          "shell.execute_reply.started": "2022-01-13T04:24:05.936110Z",
          "shell.execute_reply": "2022-01-13T04:24:05.940772Z"
        },
        "trusted": true,
        "id": "ZdVOiAq_djW1"
      },
      "execution_count": null,
      "outputs": []
    },
    {
      "cell_type": "code",
      "source": [
        "model = Sequential()\n",
        "model.add(Conv2D(filters=32, kernel_size =(3,3), activation='relu',input_shape=input_shape))\n",
        "model.add(Conv2D(64, (3,3), activation='relu'))\n",
        "model.add(MaxPool2D(2,2))\n",
        "model.add(Dropout(0.25))\n",
        "model.add(Flatten())\n",
        "model.add(Dense(128, activation='relu'))\n",
        "model.add(Dropout(0.5))\n",
        "model.add(Dense(10, activation = 'softmax'))"
      ],
      "metadata": {
        "execution": {
          "iopub.status.busy": "2022-01-13T04:24:05.942833Z",
          "iopub.execute_input": "2022-01-13T04:24:05.943149Z",
          "iopub.status.idle": "2022-01-13T04:24:06.023878Z",
          "shell.execute_reply.started": "2022-01-13T04:24:05.943028Z",
          "shell.execute_reply": "2022-01-13T04:24:06.022650Z"
        },
        "trusted": true,
        "id": "x9K0SaFldjW1"
      },
      "execution_count": null,
      "outputs": []
    },
    {
      "cell_type": "code",
      "source": [
        "model.summary()"
      ],
      "metadata": {
        "execution": {
          "iopub.status.busy": "2022-01-13T04:24:06.028577Z",
          "iopub.execute_input": "2022-01-13T04:24:06.028953Z",
          "iopub.status.idle": "2022-01-13T04:24:06.040198Z",
          "shell.execute_reply.started": "2022-01-13T04:24:06.028873Z",
          "shell.execute_reply": "2022-01-13T04:24:06.039221Z"
        },
        "trusted": true,
        "id": "ASh7VOF2djW3"
      },
      "execution_count": null,
      "outputs": []
    },
    {
      "cell_type": "code",
      "source": [
        "tf.keras.utils.plot_model(model,show_shapes=True)"
      ],
      "metadata": {
        "execution": {
          "iopub.status.busy": "2022-01-13T04:24:06.042039Z",
          "iopub.execute_input": "2022-01-13T04:24:06.043187Z",
          "iopub.status.idle": "2022-01-13T04:24:06.219582Z",
          "shell.execute_reply.started": "2022-01-13T04:24:06.043118Z",
          "shell.execute_reply": "2022-01-13T04:24:06.218603Z"
        },
        "trusted": true,
        "id": "JFPJMlpKdjW3"
      },
      "execution_count": null,
      "outputs": []
    },
    {
      "cell_type": "code",
      "source": [
        "model.compile(loss='sparse_categorical_crossentropy',optimizer='adam',metrics=['accuracy'])"
      ],
      "metadata": {
        "execution": {
          "iopub.status.busy": "2022-01-13T04:24:06.221270Z",
          "iopub.execute_input": "2022-01-13T04:24:06.221541Z",
          "iopub.status.idle": "2022-01-13T04:24:06.237967Z",
          "shell.execute_reply.started": "2022-01-13T04:24:06.221502Z",
          "shell.execute_reply": "2022-01-13T04:24:06.236829Z"
        },
        "trusted": true,
        "id": "BTNTHpgrdjW3"
      },
      "execution_count": null,
      "outputs": []
    },
    {
      "cell_type": "code",
      "source": [
        "hiistory = model.fit(X_train, y_train ,batch_size=128 , epochs=10, verbose=1, validation_data=(X_test, y_test))"
      ],
      "metadata": {
        "execution": {
          "iopub.status.busy": "2022-01-13T04:24:11.030146Z",
          "iopub.execute_input": "2022-01-13T04:24:11.030465Z",
          "iopub.status.idle": "2022-01-13T04:28:56.855833Z",
          "shell.execute_reply.started": "2022-01-13T04:24:11.030431Z",
          "shell.execute_reply": "2022-01-13T04:28:56.854985Z"
        },
        "trusted": true,
        "id": "gpW4VfHzdjW4"
      },
      "execution_count": null,
      "outputs": []
    },
    {
      "cell_type": "code",
      "source": [
        "model.evaluate(X_test,y_test)"
      ],
      "metadata": {
        "execution": {
          "iopub.status.busy": "2022-01-13T04:41:17.598036Z",
          "iopub.execute_input": "2022-01-13T04:41:17.598684Z",
          "iopub.status.idle": "2022-01-13T04:41:20.705645Z",
          "shell.execute_reply.started": "2022-01-13T04:41:17.598637Z",
          "shell.execute_reply": "2022-01-13T04:41:20.704717Z"
        },
        "trusted": true,
        "id": "Qw3mTW6gdjW4"
      },
      "execution_count": null,
      "outputs": []
    },
    {
      "cell_type": "code",
      "source": [
        "print(X_train.shape)\n",
        "print(X_test.shape)\n",
        "print(y_train.shape)\n",
        "print(y_test.shape)\n",
        "\n",
        "input_image = X_train[1].reshape(1,28,28,1)\n",
        "print(input_image.shape)"
      ],
      "metadata": {
        "execution": {
          "iopub.status.busy": "2022-01-13T04:50:12.286805Z",
          "iopub.execute_input": "2022-01-13T04:50:12.287265Z",
          "iopub.status.idle": "2022-01-13T04:50:12.293755Z",
          "shell.execute_reply.started": "2022-01-13T04:50:12.287225Z",
          "shell.execute_reply": "2022-01-13T04:50:12.292965Z"
        },
        "trusted": true,
        "id": "3CHb7dVFdjW5"
      },
      "execution_count": null,
      "outputs": []
    },
    {
      "cell_type": "code",
      "source": [
        "input_image = X_train[2].reshape(1,28,28,1)\n",
        "# print(input_image.shape)\n",
        "plt.imshow(X_train[2])\n",
        "y_pred=model.predict(input_image)\n",
        "print(np.argmax(y_pred))"
      ],
      "metadata": {
        "execution": {
          "iopub.status.busy": "2022-01-13T04:51:53.696576Z",
          "iopub.execute_input": "2022-01-13T04:51:53.696862Z",
          "iopub.status.idle": "2022-01-13T04:51:53.962484Z",
          "shell.execute_reply.started": "2022-01-13T04:51:53.696831Z",
          "shell.execute_reply": "2022-01-13T04:51:53.961486Z"
        },
        "trusted": true,
        "id": "Hczf0ZXIdjW6"
      },
      "execution_count": null,
      "outputs": []
    },
    {
      "cell_type": "code",
      "source": [
        "def plot_learningCurve(hiistory,epochs):\n",
        "    #plotting training and validation accuracy values\n",
        "    epoch_range = range(1,epochs+1)\n",
        "    plt.plot(epoch_range,hiistory.history['accuracy'])\n",
        "    plt.plot(epoch_range,hiistory.history['val_accuracy'])\n",
        "    plt.title('model accuracy')\n",
        "    plt.ylabel('Accuracy')\n",
        "    plt.xlabel('Epoch')\n",
        "    plt.legend(['Train','Val'],loc='upper left')\n",
        "    plt.show()\n",
        "\n",
        "    #plotting training and validation loss values\n",
        "    epoch_range = range(1,epochs+1)\n",
        "    plt.plot(epoch_range,hiistory.history['loss'])\n",
        "    plt.plot(epoch_range,hiistory.history['val_loss'])\n",
        "    plt.title('model loss')\n",
        "    plt.ylabel('loss')\n",
        "    plt.xlabel('Epoch')\n",
        "    plt.legend(['Train','Val'],loc='upper left')\n",
        "    plt.show()"
      ],
      "metadata": {
        "execution": {
          "iopub.status.busy": "2022-01-13T05:03:22.949978Z",
          "iopub.execute_input": "2022-01-13T05:03:22.950287Z",
          "iopub.status.idle": "2022-01-13T05:03:22.958526Z",
          "shell.execute_reply.started": "2022-01-13T05:03:22.950257Z",
          "shell.execute_reply": "2022-01-13T05:03:22.957432Z"
        },
        "trusted": true,
        "id": "WJVn39R0djW6"
      },
      "execution_count": null,
      "outputs": []
    },
    {
      "cell_type": "code",
      "source": [
        "hiistory.history"
      ],
      "metadata": {
        "execution": {
          "iopub.status.busy": "2022-01-13T04:30:42.447853Z",
          "iopub.execute_input": "2022-01-13T04:30:42.448954Z",
          "iopub.status.idle": "2022-01-13T04:30:42.455774Z",
          "shell.execute_reply.started": "2022-01-13T04:30:42.448909Z",
          "shell.execute_reply": "2022-01-13T04:30:42.454930Z"
        },
        "trusted": true,
        "id": "4ZR9LmbxdjW7"
      },
      "execution_count": null,
      "outputs": []
    },
    {
      "cell_type": "code",
      "source": [
        "plot_learningCurve(hiistory,10)"
      ],
      "metadata": {
        "execution": {
          "iopub.status.busy": "2022-01-13T05:03:30.441024Z",
          "iopub.execute_input": "2022-01-13T05:03:30.441904Z",
          "iopub.status.idle": "2022-01-13T05:03:30.836575Z",
          "shell.execute_reply.started": "2022-01-13T05:03:30.441847Z",
          "shell.execute_reply": "2022-01-13T05:03:30.835631Z"
        },
        "trusted": true,
        "id": "V7H5GqcndjW7"
      },
      "execution_count": null,
      "outputs": []
    },
    {
      "cell_type": "code",
      "source": [],
      "metadata": {
        "id": "Iwi2lQzUdjW7"
      },
      "execution_count": null,
      "outputs": []
    }
  ]
}